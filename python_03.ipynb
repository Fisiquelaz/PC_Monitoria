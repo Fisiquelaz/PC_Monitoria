{
  "nbformat": 4,
  "nbformat_minor": 0,
  "metadata": {
    "colab": {
      "name": "python_03.ipynb",
      "version": "0.3.2",
      "provenance": [],
      "include_colab_link": true
    },
    "language_info": {
      "codemirror_mode": {
        "name": "ipython",
        "version": 3
      },
      "file_extension": ".py",
      "mimetype": "text/x-python",
      "name": "python",
      "nbconvert_exporter": "python",
      "pygments_lexer": "ipython3",
      "version": "3.6.8"
    },
    "kernelspec": {
      "display_name": "Python 3",
      "language": "python",
      "name": "python3"
    }
  },
  "cells": [
    {
      "cell_type": "markdown",
      "metadata": {
        "id": "view-in-github",
        "colab_type": "text"
      },
      "source": [
        "<a href=\"https://colab.research.google.com/github/Fisiquelaz/PC_Monitoria/blob/master/python_03.ipynb\" target=\"_parent\"><img src=\"https://colab.research.google.com/assets/colab-badge.svg\" alt=\"Open In Colab\"/></a>"
      ]
    },
    {
      "cell_type": "markdown",
      "metadata": {
        "id": "UU43zv4Ru7Vs",
        "colab_type": "text"
      },
      "source": [
        "<small><small><i>\n",
        "Este notebook foi baseado nos notebooks disponíveis em [https://gitlab.erc.monash.edu.au/andrease/Python4Maths.git]\n",
        "</i></small></small>"
      ]
    },
    {
      "cell_type": "markdown",
      "metadata": {
        "id": "75_jHEsQu7V2",
        "colab_type": "text"
      },
      "source": [
        "# Repetindo sem perder o controle!\n",
        "\n",
        "Python permite que um trecho de código seja executado múltiplas vezes **estruturas de repetição**. \n",
        "\n",
        "Pra não perder o controle do seu código e cair em um loop infinito, estruturas de repetição se baseiam em **condições de parada**.\n",
        "\n",
        "Neste roteiro, você aprenderá a utilizar estes conceitos da linguagem Python.\n",
        "\n",
        "## Estruturas de repetição\n",
        "\n",
        "Muitas vezes, é necessário executar um mesmo trecho de código várias vezes:\n",
        "* Quando um sistema pede uma senha ao usuário, mas ele tem uma certa quantidade de tentativas possívels.\n",
        "* Quando queremos cadastrar múltiplos contatos em uma agenda.\n",
        "* Quando estamos calculando a média de várias avaliações de uma disciplina.\n",
        "\n",
        "Em todas essas situações, precisamos repetir um trecho de código **sem cair em um loop infinito**. Há três situações comuns:\n",
        "* Sabemos quantas vezes queremos executar um código.\n",
        "* Queremos executar um código enquanto uma condição for verdadeira.\n",
        "* Queremos executar um código até que determinada situação aconteça.\n",
        "\n",
        "Python oferece duas estruturas de repetição, que podem ser usadas nas situações descritas acima:"
      ]
    },
    {
      "cell_type": "markdown",
      "metadata": {
        "id": "OCvKKyISu7V7",
        "colab_type": "text"
      },
      "source": [
        "| Estrutura | Significado |\n",
        "|:----:|:--|\n",
        "| ```for``` | Sabemos quantas vezes queremos executar um código.  <br> Queremos iterar sobre os elementos de uma coleção.|\n",
        "| ```while```  | Queremos executar um código até que determinada situação aconteça. <br> Queremos executar um código enquanto uma condição for verdadeira. |"
      ]
    },
    {
      "cell_type": "markdown",
      "metadata": {
        "id": "1KzJSthPu7WA",
        "colab_type": "text"
      },
      "source": [
        "## A estrutura ```for```"
      ]
    },
    {
      "cell_type": "markdown",
      "metadata": {
        "id": "JyDKl2vdu7WI",
        "colab_type": "text"
      },
      "source": [
        "Quando sabemos quantas vezes queremos executar um código, a estrutura de repetição ```for``` deve ser nossa escolha:\n",
        "\n",
        "```python\n",
        "for iterador in intervalo:\n",
        "    expressao\n",
        "    expressao\n",
        "    ...\n",
        "```\n",
        "\n",
        "As regras básicas para o uso da estrutura **for** em Python são:\n",
        "\n",
        "* O trecho de código delimitado por uma estrutura **for** é chamado bloco e deve ser identado.\n",
        "* O procedimento **range(inicio, fim)** permite definir um intervalo de valores que a variavel **iterador** pode assumir durante a execução do ```for```. \n",
        "\n",
        "O exemplo abaixo mostra como esta estrutura pode ser usada para que um código seja repetido por 5 vezes:"
      ]
    },
    {
      "cell_type": "code",
      "metadata": {
        "scrolled": true,
        "id": "UH9H6s5ru7WM",
        "colab_type": "code",
        "colab": {}
      },
      "source": [
        "for i in range(0,5):\n",
        "    print(\"Execução\", i+1)"
      ],
      "execution_count": 0,
      "outputs": []
    },
    {
      "cell_type": "markdown",
      "metadata": {
        "id": "ov9uhnLxu7Wc",
        "colab_type": "text"
      },
      "source": [
        "Note que a função range define intervalos do tipo **[início, fim)**, isto é, valores maiores ou iguais a **início** e menores que **fim**.\n",
        "\n",
        "Também é possível definir intervalos mais elaborados, criando séries com diferentes crescimentos ou até mesmo decréscimos:"
      ]
    },
    {
      "cell_type": "code",
      "metadata": {
        "scrolled": true,
        "id": "F3W63sSVu7Wi",
        "colab_type": "code",
        "colab": {}
      },
      "source": [
        "# Série crescedo de 2 em 2\n",
        "for i in range(0,5,2):\n",
        "    print(\"Valor de i:\", i)"
      ],
      "execution_count": 0,
      "outputs": []
    },
    {
      "cell_type": "code",
      "metadata": {
        "scrolled": true,
        "id": "h_551-F3u7Wv",
        "colab_type": "code",
        "colab": {}
      },
      "source": [
        "# Série decrescendo de 5 em 5\n",
        "for i in range(15,-20,-5):\n",
        "    print(\"Valor de i:\", i)"
      ],
      "execution_count": 0,
      "outputs": []
    },
    {
      "cell_type": "markdown",
      "metadata": {
        "id": "zhFKyL0gu7W9",
        "colab_type": "text"
      },
      "source": [
        "### Exercícios de fixação"
      ]
    },
    {
      "cell_type": "markdown",
      "metadata": {
        "id": "pLEX7gShu7XD",
        "colab_type": "text"
      },
      "source": [
        "1 - Peça ao usuário suas notas das 3 unidades de uma disciplina e calcule sua média."
      ]
    },
    {
      "cell_type": "code",
      "metadata": {
        "id": "XXQt5hjnu7XI",
        "colab_type": "code",
        "colab": {}
      },
      "source": [
        ""
      ],
      "execution_count": 0,
      "outputs": []
    },
    {
      "cell_type": "markdown",
      "metadata": {
        "id": "hoDxdg0Zu7XR",
        "colab_type": "text"
      },
      "source": [
        "2 - Solicite ao usuário um inteiro positivo *n* e imprima a soma dos números pares entre 0 e *n*."
      ]
    },
    {
      "cell_type": "code",
      "metadata": {
        "id": "nH6l7cP2u7XV",
        "colab_type": "code",
        "colab": {}
      },
      "source": [
        ""
      ],
      "execution_count": 0,
      "outputs": []
    },
    {
      "cell_type": "markdown",
      "metadata": {
        "id": "92-GVCiDu7Xg",
        "colab_type": "text"
      },
      "source": [
        "3 - Analise os números entre -25 e 50. Se o número for múltiplo de 2, imprima BUS. Se for múltiplo de 3, imprima FEES. Caso seja múltiplo de 2 e de 3 ao mesmo tempo, imprima BUS e FEES."
      ]
    },
    {
      "cell_type": "code",
      "metadata": {
        "id": "MSjYELVQu7Xk",
        "colab_type": "code",
        "colab": {}
      },
      "source": [
        ""
      ],
      "execution_count": 0,
      "outputs": []
    },
    {
      "cell_type": "markdown",
      "metadata": {
        "id": "5sH9JcAMu7Xv",
        "colab_type": "text"
      },
      "source": [
        "4 - Solicite ao usuário um inteiro positivo *n* e calcule o fatorial de *n*."
      ]
    },
    {
      "cell_type": "code",
      "metadata": {
        "id": "P6JR9QUKu7Xz",
        "colab_type": "code",
        "colab": {}
      },
      "source": [
        ""
      ],
      "execution_count": 0,
      "outputs": []
    },
    {
      "cell_type": "markdown",
      "metadata": {
        "id": "-4Y42AiSu7YA",
        "colab_type": "text"
      },
      "source": [
        "## A estrutura ```while```"
      ]
    },
    {
      "cell_type": "markdown",
      "metadata": {
        "id": "_xoZyq_2u7YD",
        "colab_type": "text"
      },
      "source": [
        "Quando queremos executar um código enquanto uma condição for verdadeira, a estrutura de repetição ```while``` deve ser nossa escolha:\n",
        "\n",
        "```python\n",
        "while condicao:\n",
        "    expressao\n",
        "    expressao\n",
        "    ...\n",
        "```\n",
        "\n",
        "As regras básicas para o uso da estrutura **while** em Python são:\n",
        "\n",
        "* O trecho de código delimitado por uma estrutura **while** é chamado bloco e deve ser identado.\n",
        "* O bloco delimitado por uma estrutura **while** será executado enquanto a expressão lógica (```condicao```) for verdadeira (```True```).\n",
        "\n",
        "Um exemplo de uso desta estrutura é o caso em que não se sabe quantas vezes será necessário executar um trecho de código:"
      ]
    },
    {
      "cell_type": "code",
      "metadata": {
        "scrolled": true,
        "id": "8-hFCYLpu7YH",
        "colab_type": "code",
        "colab": {}
      },
      "source": [
        "from random import randint\n",
        "\n",
        "n_multiplos = 0\n",
        "while n_multiplos < 3:\n",
        "    numero = randint(0,30)\n",
        "    if numero % 3 == 0:\n",
        "        n_multiplos += 1\n",
        "        print(\"Múltiplo #\", n_multiplos, \"-\", numero)"
      ],
      "execution_count": 0,
      "outputs": []
    },
    {
      "cell_type": "markdown",
      "metadata": {
        "id": "VtJ7Spf2u7YP",
        "colab_type": "text"
      },
      "source": [
        "Também é possível utilizar a estrutura de repetição ```while``` quando queremos executar um código até que uma determinada situação ocorra:\n",
        "\n",
        "```python\n",
        "while True:\n",
        "    expressao\n",
        "    expressao\n",
        "    ...\n",
        "    if condicao:\n",
        "        break\n",
        "```\n",
        "\n",
        "As regras básicas para o uso da estrutura **while** neste contexto são:\n",
        "\n",
        "* O bloco será executado uma ou mais vezes, até que a condição se torne verdadeira.\n",
        "* O comando **```break```** provoca a interrupção da repetição.\n",
        "\n",
        "O exemplo abaixo mostra como esta estrutura pode ser usada para solicitar uma senha ao usuário até que ele acerte a senha:"
      ]
    },
    {
      "cell_type": "code",
      "metadata": {
        "scrolled": false,
        "id": "MSI6kB7Du7YS",
        "colab_type": "code",
        "colab": {}
      },
      "source": [
        "senha_correta = \"swordfish\"\n",
        "while True:\n",
        "    senha = input(\"Informe sua senha: \")\n",
        "    if senha == senha_correta:\n",
        "        break\n",
        "    else:\n",
        "        print(\"Senha incorreta!\")"
      ],
      "execution_count": 0,
      "outputs": []
    },
    {
      "cell_type": "markdown",
      "metadata": {
        "id": "YtmLkryyu7Ye",
        "colab_type": "text"
      },
      "source": [
        "### Exercícios de fixação"
      ]
    },
    {
      "cell_type": "markdown",
      "metadata": {
        "id": "8S-4SoPmu7Yi",
        "colab_type": "text"
      },
      "source": [
        "1 - Sorteie um número entre 0 e 10 e peça ao usuário para tentar adivinhá-lo. Quando o usuário acertar o número, informe quantas tentativas foram necessárias."
      ]
    },
    {
      "cell_type": "code",
      "metadata": {
        "id": "2Li0AbG3u7Yl",
        "colab_type": "code",
        "colab": {}
      },
      "source": [
        ""
      ],
      "execution_count": 0,
      "outputs": []
    },
    {
      "cell_type": "markdown",
      "metadata": {
        "id": "409qymQku7Yz",
        "colab_type": "text"
      },
      "source": [
        "### Pulando parte do código\n",
        "\n",
        "É possível evitar que parte do código seja executada durante uma repetição utilizando o comando ```continue```.\n"
      ]
    },
    {
      "cell_type": "code",
      "metadata": {
        "scrolled": true,
        "id": "WY-iNdaeu7Y5",
        "colab_type": "code",
        "colab": {}
      },
      "source": [
        "soma = 0\n",
        "for i in range(10):\n",
        "    if i == 3:\n",
        "        continue\n",
        "    print(i)"
      ],
      "execution_count": 0,
      "outputs": []
    },
    {
      "cell_type": "markdown",
      "metadata": {
        "id": "FwSccIhuu7ZD",
        "colab_type": "text"
      },
      "source": [
        "### Exercícios de fixação"
      ]
    },
    {
      "cell_type": "markdown",
      "metadata": {
        "id": "reiKIxAuu7ZF",
        "colab_type": "text"
      },
      "source": [
        "1 - Imprima os números partes entre 0 e 50, pulando os números múltiplos de 4. Use o comando ```continue```."
      ]
    },
    {
      "cell_type": "code",
      "metadata": {
        "id": "nJOJIwwku7ZJ",
        "colab_type": "code",
        "colab": {}
      },
      "source": [
        ""
      ],
      "execution_count": 0,
      "outputs": []
    },
    {
      "cell_type": "markdown",
      "metadata": {
        "id": "66VQeS3Fu7ZS",
        "colab_type": "text"
      },
      "source": [
        "## Combinando múltiplas estruturas de repetição"
      ]
    },
    {
      "cell_type": "markdown",
      "metadata": {
        "id": "w48RC38su7ZV",
        "colab_type": "text"
      },
      "source": [
        "Assim como vimos para estruturas de decisão, também podemos combinar estruturas de repetição em múltiplos níveis. \n",
        "\n",
        "As regras básicas para **aninhar estruturas de repetição** em Python são:\n",
        "* Não há limite com relação a quantas estruturas e em quantos níveis.\n",
        "* Blocos de níveis mais profundos devem apresentar maior grau de identação.\n",
        "* Os efeitos dos comandos ```break``` e ```continue``` se limitam ao nível atual.\n",
        "\n",
        "O exemplo abaixo mostra como imprimir uma matriz identidade. Note que a função ```print``` pode ser usada para imprimir várias vezes em uma mesma linha, utilizando pra isso a opção ```end```."
      ]
    },
    {
      "cell_type": "code",
      "metadata": {
        "id": "Y6MZ1ZQJu7ZZ",
        "colab_type": "code",
        "colab": {}
      },
      "source": [
        "for i in range(3):\n",
        "    for j in range(3):\n",
        "        if i == j:\n",
        "            print(\" 1 \", end='')\n",
        "        else:\n",
        "            print(\" 0 \", end='')\n",
        "    print()"
      ],
      "execution_count": 0,
      "outputs": []
    },
    {
      "cell_type": "markdown",
      "metadata": {
        "collapsed": true,
        "id": "TxhClNdxu7Zm",
        "colab_type": "text"
      },
      "source": [
        "## Exercícios do URI"
      ]
    },
    {
      "cell_type": "markdown",
      "metadata": {
        "collapsed": true,
        "id": "DVRQMjshu7Zp",
        "colab_type": "text"
      },
      "source": [
        "[1080](https://www.urionlinejudge.com.br/judge/pt/problems/view/1080) - Calcular estatísticas é uma importante tarefa dos sistema de computação que trabalham com análise de dados. Em um roteiro anterior, você implementou uma função para uso em histogramas, que informava a qual intervalo um elemento pertencia.\n",
        "\n",
        "Neste exercício, você vai voltar pro mundo real e de fato preparar um histograma dos dados (colher de chá: não precisa gerar o gráfico no final).\n",
        "\n",
        "Escreva um código Python que receba um inteiro informando quantos números no intervalo \\[0,100\\) serão informados a seguir. Considerando 5 subintervalos de igual tamanho, seu programa deverá calcular a frequência de elementos presentes em cada subintervalo.\n",
        "\n",
        "Por fim, seu programa deverá informar os elementos máximo e mínimo encontrados nos dados, e suas posições na sequência dos dados de entrada."
      ]
    },
    {
      "cell_type": "markdown",
      "metadata": {
        "id": "LXLtKDQ7u7Zr",
        "colab_type": "text"
      },
      "source": [
        "|.| Entrada | Saída |\n",
        "|-|:----:|---|\n",
        "| *Exemplo 1* | 5<br/>100<br/>40<br/>32<br/>87<br/>90 | \\[0,20\\) - 1 <br/> \\[20,40\\) - 1 <br/> \\[40,60\\) - 1 <br/> \\[60,80\\) - 0 <br/> \\[80,100\\) - 3  <br/> Máximo: 100 (0) <br/> Mínimo: 32 (2) | \n",
        "| *Exemplo 2* | 3<br/>12<br/>29<br/>45 | \\[0,20\\) - 1 <br/> \\[20,40\\) - 1 <br/> \\[40,60\\) - 1 <br/> \\[60,80\\) - 0 <br/> \\[80,100\\) - 0  <br/> Máximo: 45 (2) <br/> Mínimo: 12 (0) | \n",
        "| *Exemplo 3* | 7<br/>13<br/>88<br/>45<br/>63<br/>94<br/>27<br/>5 | \\[0,20\\) - 1 <br/> \\[20,40\\) - 1 <br/> \\[40,60\\) - 1 <br/> \\[60,80\\) - 1 <br/> \\[80,100\\) - 2  <br/> Máximo: 94 (4) <br/> Mínimo: 5 (6) | \n"
      ]
    },
    {
      "cell_type": "code",
      "metadata": {
        "id": "EynjeGXTva9A",
        "colab_type": "code",
        "colab": {
          "base_uri": "https://localhost:8080/",
          "height": 285
        },
        "outputId": "6d179904-66b1-4fde-c007-3f7afee3943c"
      },
      "source": [
        "cont_pos = int(input())\n",
        "lista = []\n",
        "dicionario = {\"[0,20)\":0, \"[20,40)\":0, \"[40,60)\":0, \"[60,80)\":0, \"[80,100)\":0}\n",
        "for x in range(0, cont_pos):\n",
        "  y = int(input())\n",
        "  lista.append(y)\n",
        "  if y >= 0 and y < 20:\n",
        "    dicionario[\"[0,20)\"] += 1\n",
        "  elif y >= 20 and y < 40:\n",
        "    dicionario[\"[20,40)\"] += 1\n",
        "  elif y >= 40 and y < 60:\n",
        "    dicionario[\"[40,60)\"] += 1\n",
        "  elif y >= 60 and y < 80:\n",
        "    dicionario[\"[60,80)\"] += 1\n",
        "  elif y >= 80 and y < 100:\n",
        "    dicionario[\"[80,100)\"] += 1\n",
        "maior, posicao1 = 0, 0\n",
        "for w in range(0, len(lista)):\n",
        "  if lista[w] > maior:\n",
        "    maior, posicao1 = lista[w], w\n",
        "menor, posicao2 = 100, 0\n",
        "for w in range(0, len(lista)):\n",
        "  if lista[w] < menor:\n",
        "    menor, posicao2 = lista[w], w\n",
        "for z in dicionario.keys():\n",
        "  print(z + \" - \" + str(dicionario[z]))\n",
        "print(\"Máximo: \" + str(maior) + \" (\" + str(posicao1) + \")\")\n",
        "print(\"Mínimo: \" + str(menor) + \" (\" + str(posicao2) + \")\")"
      ],
      "execution_count": 8,
      "outputs": [
        {
          "output_type": "stream",
          "text": [
            "7\n",
            "13\n",
            "88\n",
            "45\n",
            "63\n",
            "94\n",
            "27\n",
            "5\n",
            "[0,20) - 2\n",
            "[20,40) - 1\n",
            "[40,60) - 1\n",
            "[60,80) - 1\n",
            "[80,100) - 2\n",
            "Máximo: 94 (4)\n",
            "Mínimo: 5 (6)\n"
          ],
          "name": "stdout"
        }
      ]
    },
    {
      "cell_type": "markdown",
      "metadata": {
        "collapsed": true,
        "id": "zY6uMFO7u7Zu",
        "colab_type": "text"
      },
      "source": [
        "[1164](https://www.urionlinejudge.com.br/judge/pt/problems/view/1164) - Um número **perfeito** é um número igual à soma dos seus divisores (exceto ele mesmo).\n",
        "\n",
        "O número 28 é um exemplo de número perfeito: 28 = 1 + 2 + 4 + 7 + 14.\n",
        "\n",
        "[1165](https://www.urionlinejudge.com.br/judge/pt/problems/view/1165) - Um número **primo** é um número que só pode ser dividido por 1 e por ele mesmo. \n",
        "\n",
        "O número 17, por exemplo, só pode ser dividido por 1 e por 17.\n",
        "\n",
        "Escreva um código Python que receba um inteiro N e imprima os números do intervalo [1,N] que são primos ou perfeitos."
      ]
    },
    {
      "cell_type": "markdown",
      "metadata": {
        "collapsed": true,
        "id": "6d-R6nMJu7Zz",
        "colab_type": "text"
      },
      "source": [
        "|.| Entrada | Saída |\n",
        "|-|:-:|:-|\n",
        "| *Exemplo 1* | 10 | 1 2 3 5 6 7 10 | \n",
        "| *Exemplo 2* | 15 | 1 2 3 5 6 7 10 11 13 |\n",
        "| *Exemplo 3* | 20 | 1 2 3 5 6 7 10 11 13 17 19 |"
      ]
    },
    {
      "cell_type": "code",
      "metadata": {
        "id": "z5fxNQhYu7Z3",
        "colab_type": "code",
        "colab": {
          "base_uri": "https://localhost:8080/",
          "height": 53
        },
        "outputId": "11e556f5-0300-4391-a1e6-9c0583e2c9f7"
      },
      "source": [
        "def perfeito(x):\n",
        "  soma = 0\n",
        "  for y in range(1, x):\n",
        "    if x%y == 0:\n",
        "      soma += y\n",
        "  if soma == x:\n",
        "    return True\n",
        "  else:\n",
        "    return False\n",
        "def primo(x):\n",
        "  for y in range(2, x):\n",
        "    if x%y == 0:\n",
        "      return False\n",
        "  return True\n",
        "x = int(input())\n",
        "for y in range(1, x+1):\n",
        "  if perfeito(y) or primo(y):\n",
        "    print(y, end=\" \")"
      ],
      "execution_count": 19,
      "outputs": [
        {
          "output_type": "stream",
          "text": [
            "20\n",
            "1 2 3 5 6 7 11 13 17 19 "
          ],
          "name": "stdout"
        }
      ]
    },
    {
      "cell_type": "markdown",
      "metadata": {
        "collapsed": true,
        "id": "FNrVl5F9u7aA",
        "colab_type": "text"
      },
      "source": [
        "[1789](https://www.urionlinejudge.com.br/judge/pt/problems/view/1789) - Jogos de corrida utilizam simulações baseadas nas regras da física para trazer realismo à experiência do usuário.\n",
        "\n",
        "Neste exercício, você deve simular uma das regras mais simples da mecânica clássica, que mostra que a distância percorrida por um objeto é proporcional à sua velocidade.\n",
        "\n",
        "Neste jogo serão 3 corredores, cada um com uma velocidade dada por um número real sorteado no intervalo [0,100) m/s.\n",
        "\n",
        "Considere que todos os competidores partem do mesmo lugar e apresente a posição de cada corredor atualizada segundo a segundo.\n",
        "\n",
        "Considere ainda que a linha de chegada está a 482m de distância do ponto de partida e encerre a corrida quando o vencedor cruzar a linha, identificando o vencedor.\n",
        "\n",
        "** Dica --** Para gerar um número real aleatório no intervalo [0,100), utilize a função ```uniform(0,100)```."
      ]
    },
    {
      "cell_type": "markdown",
      "metadata": {
        "collapsed": true,
        "id": "CPnSS-GUu7aC",
        "colab_type": "text"
      },
      "source": [
        "|.| Velocidades | Saída |\n",
        "|-|:-:|:-|\n",
        "| *Exemplo 1* | 15.38<br/>55.49<br/>48.65  | 15.38 55.49 48.65 <br/> 30.76 110.98 97.30 <br/> 46.14 166.47 145.95 <br/> 61.52 221.96 194.60 <br/> 76.90 277.45 243.25 <br/> 92.28 332.94 291.90 <br/> 107.66 388.43 340.55 <br/> 123.04 443.92 389.20 <br/> 138.42 499.41 437.85 <br/> P2 | \n",
        "| *Exemplo 2* | 42.27<br/>95.26<br/>72.25 | 42.27 95.26 72.25 <br/> 84.54 190.52 144.50 <br/> 126.81 285.78 216.75 <br/> 169.08 381.04 289.00 <br/> 211.35 476.30 361.25 <br/> 253.62 571.56 433.50 <br/> P2 |\n",
        "| *Exemplo 3* | 98.76<br/>93.21<br/>96.65 | 98.76 93.21 96.65 <br/> 197.52 186.42 193.30 <br/> 296.28 279.63 289.95 <br/> 395.04 372.84 386.60 <br/> 493.80 466.05 483.25 <br/> P1 |"
      ]
    },
    {
      "cell_type": "code",
      "metadata": {
        "id": "X9rkDVkbu7aE",
        "colab_type": "code",
        "colab": {
          "base_uri": "https://localhost:8080/",
          "height": 249
        },
        "outputId": "4290065a-3115-4a9f-ab54-b5bed0c40691"
      },
      "source": [
        "from random import uniform\n",
        "velocidades = [round(uniform(90,100),2) for x in range(0,3)]\n",
        "distancias = [x for x in velocidades]\n",
        "passado = -1\n",
        "for x in range(0,3):\n",
        "  print(round(distancias[x],2), end=\" \")\n",
        "print(\"\")\n",
        "while passado == -1:\n",
        "  for x in range(0,3):\n",
        "    distancias[x] += velocidades[x]\n",
        "    if distancias[x] > 482 and passado == -1:\n",
        "      passado = x+1\n",
        "    elif distancias[x] > 482 and passado != -1:\n",
        "      print(\"\\nPassado:\" + str(passado-1) + \" \" + str(distancias[passado-1]))\n",
        "      print(\"X:\" + str(x) + \" \" + str(distancias[x]))\n",
        "      if distancias[passado-1] < distancias[x]:\n",
        "        passado = x+1\n",
        "    print(round(distancias[x],2), end=\" \")\n",
        "  print(\"\")\n",
        "  if passado != -1:\n",
        "    print(\"P\"+str(passado))\n",
        "    break"
      ],
      "execution_count": 121,
      "outputs": [
        {
          "output_type": "stream",
          "text": [
            "91.69 93.47 93.14 \n",
            "183.38 186.94 186.28 \n",
            "275.07 280.41 279.42 \n",
            "366.76 373.88 372.56 \n",
            "458.45 467.35 465.7 \n",
            "550.14 \n",
            "Passado:0 550.14\n",
            "X:1 560.82\n",
            "560.82 \n",
            "Passado:1 560.82\n",
            "X:2 558.84\n",
            "558.84 \n",
            "P2\n"
          ],
          "name": "stdout"
        }
      ]
    },
    {
      "cell_type": "markdown",
      "metadata": {
        "collapsed": true,
        "id": "kxEd48beu7aM",
        "colab_type": "text"
      },
      "source": [
        "[1828](https://www.urionlinejudge.com.br/judge/pt/problems/view/1828) - Pedra, paper e tesoura, ou じゃんけんぽん (jankenpon), é um jogo simples que envolve apenas quatro regras:\n",
        "\n",
        "- Dois jogadores disputam entre si, podendo escolher entre 3 opções de ação: pedra, papel ou tesoura.\n",
        "- A pedra quebra a tesoura.\n",
        "- A tesoura corta o papel.\n",
        "- O papel embrulha a pedra.\n",
        "\n",
        "Também é possível que não haja um vencedor, quando os dois jogadores escolhem a mesma ação.\n",
        "\n",
        "Escreva um código Python que receba um inteiro informando número de rodadas de uma partida e simule dois jogadores competindo entre si. Você deve imprimir as ações e o vencedor de cada rodada, bem como o vencedor da partida."
      ]
    },
    {
      "cell_type": "markdown",
      "metadata": {
        "id": "sVH6OKNpu7aN",
        "colab_type": "text"
      },
      "source": [
        "|.| Entrada | Saída |\n",
        "|-|:-:|:-|\n",
        "| *Exemplo 1* | 3  | Jogador 2 <br/> Empate <br/> Jogador 2 <br/> Placar final: 0 x 2 <br/> Partida vencida pelo Jogador 2! | \n",
        "| *Exemplo 2* | 5 | Jogador 1 <br/> Jogador 1 <br/> Empate <br/> Empate <br/> Jogador 1 <br/> Placar final: 3 x 0 <br/> Partida vencida pelo Jogador 1! |\n",
        "| *Exemplo 3* | 4 | Empate <br/> Jogador 2 <br/> Empate <br/> Empate <br/> Placar final: 0 x 1 <br/> Partida vencida pelo Jogador 2! |"
      ]
    },
    {
      "cell_type": "code",
      "metadata": {
        "id": "bMnH9xnGu7aP",
        "colab_type": "code",
        "colab": {
          "base_uri": "https://localhost:8080/",
          "height": 160
        },
        "outputId": "88ce2379-ab27-4916-a299-ea5bc59abfa4"
      },
      "source": [
        "from random import randint\n",
        "def atribuir():\n",
        "  dado = randint(0, 2)\n",
        "  if dado == 0:\n",
        "    return \"Pedra\"\n",
        "  elif dado == 1:\n",
        "    return \"Tesoura\"\n",
        "  elif dado == 2:\n",
        "    return \"Papel\"\n",
        "def decidir(j1, j2):\n",
        "  if j1 == \"Pedra\":\n",
        "    if j2 == \"Tesoura\":\n",
        "      return \"Jogador 1\"\n",
        "    elif j2 == \"Papel\":\n",
        "      return \"Jogador 2\"\n",
        "    else:\n",
        "      return \"Empate\"\n",
        "  elif j1 == \"Tesoura\":\n",
        "    if j2 == \"Papel\":\n",
        "      return \"Jogador 1\"\n",
        "    elif j2 == \"Pedra\":\n",
        "      return \"Jogador 2\"\n",
        "    else:\n",
        "      return \"Empate\"\n",
        "  elif j1 == \"Papel\":\n",
        "    if j2 == \"Pedra\":\n",
        "      return \"Jogador 1\"\n",
        "    elif j2 == \"Tesoura\":\n",
        "      return \"Jogador 2\"\n",
        "    else:\n",
        "      return \"Empate\"\n",
        "rodadas = int(input())\n",
        "c1, c2 = 0, 0\n",
        "for x in range(0, rodadas):\n",
        "  j1 = atribuir()\n",
        "  j2 = atribuir()\n",
        "  r = decidir(j1,j2)\n",
        "  if r == \"Jogador 1\":\n",
        "    c1 += 1\n",
        "  elif r == \"Jogador 2\":\n",
        "    c2 += 1\n",
        "  print(r)\n",
        "print(\"Placar final: %d x %d\" % (c1,c2))\n",
        "if c1 > c2:\n",
        "  print(\"A partida foi vencida pelo Jogador 1\")\n",
        "elif c1 < c2:\n",
        "  print(\"A partida foi vencida pelo Jogador 2\")\n",
        "else:\n",
        "  print(\"A partida foi um empate\")"
      ],
      "execution_count": 138,
      "outputs": [
        {
          "output_type": "stream",
          "text": [
            "5\n",
            "Jogador 1\n",
            "Empate\n",
            "Empate\n",
            "Jogador 1\n",
            "Jogador 2\n",
            "Placar final: 2 x 1\n",
            "A partida foi vencida pelo Jogador 1\n"
          ],
          "name": "stdout"
        }
      ]
    },
    {
      "cell_type": "markdown",
      "metadata": {
        "id": "NImdvhhwu7aW",
        "colab_type": "text"
      },
      "source": [
        "Agora que você já sabe até como criar um jogo de jonkenpon, implemente uma versão em que você pode jogar contra o computador e mostre que você pode derrotá-lo :D"
      ]
    },
    {
      "cell_type": "code",
      "metadata": {
        "id": "SzLPqKazu7aZ",
        "colab_type": "code",
        "colab": {
          "base_uri": "https://localhost:8080/",
          "height": 249
        },
        "outputId": "a03e9f27-6328-4067-9594-7a5a0afbd18a"
      },
      "source": [
        "from random import randint\n",
        "def atribuir():\n",
        "  dado = randint(0, 2)\n",
        "  if dado == 0:\n",
        "    return \"Pedra\"\n",
        "  elif dado == 1:\n",
        "    return \"Tesoura\"\n",
        "  elif dado == 2:\n",
        "    return \"Papel\"\n",
        "def decidir(j1, j2):\n",
        "  if j1 == \"Pedra\":\n",
        "    if j2 == \"Tesoura\":\n",
        "      return \"Jogador 1\"\n",
        "    elif j2 == \"Papel\":\n",
        "      return \"Jogador 2\"\n",
        "    else:\n",
        "      return \"Empate\"\n",
        "  elif j1 == \"Tesoura\":\n",
        "    if j2 == \"Papel\":\n",
        "      return \"Jogador 1\"\n",
        "    elif j2 == \"Pedra\":\n",
        "      return \"Jogador 2\"\n",
        "    else:\n",
        "      return \"Empate\"\n",
        "  elif j1 == \"Papel\":\n",
        "    if j2 == \"Pedra\":\n",
        "      return \"Jogador 1\"\n",
        "    elif j2 == \"Tesoura\":\n",
        "      return \"Jogador 2\"\n",
        "    else:\n",
        "      return \"Empate\"\n",
        "rodadas = int(input())\n",
        "c1, c2 = 0, 0\n",
        "for x in range(0, rodadas):\n",
        "  j1 = input()\n",
        "  j2 = atribuir()\n",
        "  r = decidir(j1,j2)\n",
        "  if r == \"Jogador 1\":\n",
        "    c1 += 1\n",
        "  elif r == \"Jogador 2\":\n",
        "    c2 += 1\n",
        "  print(r)\n",
        "print(\"Placar final: %d x %d\" % (c1,c2))\n",
        "if c1 > c2:\n",
        "  print(\"A partida foi vencida pelo Jogador 1\")\n",
        "elif c1 < c2:\n",
        "  print(\"A partida foi vencida pelo Jogador 2\")\n",
        "else:\n",
        "  print(\"A partida foi um empate\")"
      ],
      "execution_count": 139,
      "outputs": [
        {
          "output_type": "stream",
          "text": [
            "5\n",
            "Pedra\n",
            "Jogador 2\n",
            "Tesoura\n",
            "Jogador 2\n",
            "Tesoura\n",
            "Jogador 2\n",
            "Papel\n",
            "Empate\n",
            "Papel\n",
            "Jogador 1\n",
            "Placar final: 1 x 3\n",
            "A partida foi vencida pelo Jogador 2\n"
          ],
          "name": "stdout"
        }
      ]
    },
    {
      "cell_type": "markdown",
      "metadata": {
        "id": "dY3RS1lKu7al",
        "colab_type": "text"
      },
      "source": [
        "[Blackjack](https://pt.wikipedia.org/wiki/Blackjack) - Vinte-e-um (21) é um dos mais icônicos jogos de cartas, onde um jogador real compete contra um jogador imaginário (a banca) para ver quem consegue o jogo de maior valor sem estourar o limite de 21 pontos.\n",
        "\n",
        "Por simplicidade, considere apenas as seguintes regras:\n",
        "- Cada jogador pode pedir uma carta por rodada ou dizer que quer parar de pedir.\n",
        "- O jogador que acumular mais de 21 pontos perde a partida.\n",
        "- Se o jogador e a banca atingirem o mesmo número de pontos, a partida termina empatada.\n",
        "- As cartas numéricas valem o número de pontos que elas indicam (ex: 2 vale 2, 10 vale 10).\n",
        "- As cartas de figuras (rei, valete e dama) valem 10 pontos.\n",
        "- O Ás vale 11 pontos.\n",
        "\n",
        "Escreva um código Python que te permite jogar blackjack contra o computador, escrevendo a cada rodada o valor do jogo de cada jogador e, ao final, o vencedor da partida."
      ]
    },
    {
      "cell_type": "code",
      "metadata": {
        "id": "VBzQdk0Yu7ao",
        "colab_type": "code",
        "colab": {
          "base_uri": "https://localhost:8080/",
          "height": 303
        },
        "outputId": "1afe729b-4b38-4887-9487-3e7fdc0df794"
      },
      "source": [
        "from random import randint\n",
        "def puxar():\n",
        "  carta = randint(1, 13)\n",
        "  if carta > 10:\n",
        "    carta = 10\n",
        "  elif carta == 1:\n",
        "    carta = 11\n",
        "  return carta\n",
        "tj, tc, v, f = 0, 0, 0, 1\n",
        "while f != 0:\n",
        "  print(\"====Pontuação:====\\nJogador: %d\\nMesa:%d\" % (tj, tc))\n",
        "  r = int(input(\"Deseja puxar uma carta? (1 - sim, 2 - não)\"))\n",
        "  if r != 1:\n",
        "    f = 0\n",
        "  else:\n",
        "    tj += puxar()\n",
        "    tc += puxar()\n",
        "    if tj > 21:\n",
        "      if tc > 21:\n",
        "        v = 0\n",
        "      else:\n",
        "        v = -1\n",
        "      f = 0\n",
        "    elif tj == 21:\n",
        "      if tj == 21:\n",
        "        v = 0\n",
        "      else:\n",
        "        v = 1 \n",
        "      f = 0\n",
        "    elif tc == 21:\n",
        "      v = -1\n",
        "      f = 0\n",
        "    elif tc > 21:\n",
        "      v = 1\n",
        "      f = 0\n",
        "print(\"====Pontuação:====\\nJogador: %d\\nMesa:%d\" % (tj, tc))\n",
        "if v == 1:\n",
        "  print(\"Você venceu!!\")\n",
        "elif v == 0:\n",
        "  print(\"Foi um empate!!\")\n",
        "else:\n",
        "  print(\"Você perdeu!!\")"
      ],
      "execution_count": 151,
      "outputs": [
        {
          "output_type": "stream",
          "text": [
            "====Pontuação:====\n",
            "Jogador: 0\n",
            "Mesa:0\n",
            "Deseja puxar uma carta? (1 - sim, 2 - não)1\n",
            "====Pontuação:====\n",
            "Jogador: 3\n",
            "Mesa:8\n",
            "Deseja puxar uma carta? (1 - sim, 2 - não)1\n",
            "====Pontuação:====\n",
            "Jogador: 13\n",
            "Mesa:17\n",
            "Deseja puxar uma carta? (1 - sim, 2 - não)1\n",
            "====Pontuação:====\n",
            "Jogador: 23\n",
            "Mesa:25\n",
            "Foi um empate!!\n"
          ],
          "name": "stdout"
        }
      ]
    }
  ]
}